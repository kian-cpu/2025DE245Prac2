{
  "nbformat": 4,
  "nbformat_minor": 0,
  "metadata": {
    "colab": {
      "provenance": []
    },
    "kernelspec": {
      "name": "python3",
      "display_name": "Python 3"
    },
    "language_info": {
      "name": "python"
    }
  },
  "cells": [
    {
      "cell_type": "markdown",
      "source": [
        "# Introduction to Python for Data Engineering\n",
        "\n",
        "This notebook demonstrates how to read data from a public API, process it to create useful information, and store the result in an SQLite database.\n",
        "\n",
        "It assumes you have read [this article](https://www.startdataengineering.com/post/python-for-de/#extract--load-read-and-write-data-to-any-system).\n",
        "\n",
        "**Acknowledgment**: Parts of this notebook were developed with the assistance of ChatGPT, an AI language model by OpenAI, to support instructional design and coding tasks related to data engineering concepts."
      ],
      "metadata": {
        "id": "Fok6QWp9znpg"
      }
    },
    {
      "cell_type": "code",
      "execution_count": 16,
      "metadata": {
        "colab": {
          "base_uri": "https://localhost:8080/"
        },
        "id": "vpIOn2KKzVhs",
        "outputId": "9e1cc3c6-515d-4562-ea96-39757aa76b8e"
      },
      "outputs": [
        {
          "output_type": "stream",
          "name": "stdout",
          "text": [
            "Requirement already satisfied: requests in /usr/local/lib/python3.12/dist-packages (2.32.3)\n",
            "Requirement already satisfied: charset-normalizer<4,>=2 in /usr/local/lib/python3.12/dist-packages (from requests) (3.4.3)\n",
            "Requirement already satisfied: idna<4,>=2.5 in /usr/local/lib/python3.12/dist-packages (from requests) (3.10)\n",
            "Requirement already satisfied: urllib3<3,>=1.21.1 in /usr/local/lib/python3.12/dist-packages (from requests) (2.5.0)\n",
            "Requirement already satisfied: certifi>=2017.4.17 in /usr/local/lib/python3.12/dist-packages (from requests) (2025.8.3)\n"
          ]
        }
      ],
      "source": [
        "# Install required packages\n",
        "!pip install requests"
      ]
    },
    {
      "cell_type": "code",
      "source": [
        "# Import libraries\n",
        "import requests\n",
        "import sqlite3\n",
        "from datetime import datetime"
      ],
      "metadata": {
        "id": "o2zpVKtTz-8k"
      },
      "execution_count": 17,
      "outputs": []
    },
    {
      "cell_type": "code",
      "source": [
        "import os\n",
        "# This will delete the old database file if it exists\n",
        "if os.path.exists(\"bitcoin_prices.db\"):\n",
        "    os.remove(\"bitcoin_prices.db\")\n",
        "    print(\"Old database deleted. A new one will be created.\")\n",
        "else:\n",
        "    print(\"No old database found. A new one will be created.\")"
      ],
      "metadata": {
        "id": "AnYFnuYWzudS",
        "outputId": "5240e953-3024-4b3d-c2a9-9bc7e1f70626",
        "colab": {
          "base_uri": "https://localhost:8080/"
        }
      },
      "execution_count": 18,
      "outputs": [
        {
          "output_type": "stream",
          "name": "stdout",
          "text": [
            "Old database deleted. A new one will be created.\n"
          ]
        }
      ]
    },
    {
      "cell_type": "code",
      "source": [
        "# Read data from CoinGecko API for multiple currencies\n",
        "url = \"https://api.coingecko.com/api/v3/simple/price?ids=bitcoin&vs_currencies=usd,eur,gbp,jpy,cad,aud,chf,cnh,hkd,sgd,sek,nzd,krw,nok,inr,brl,rub,zar,mxn,myr,idr,try,sar,aed,thb\"\n",
        "response = requests.get(url)\n",
        "data = response.json()\n",
        "\n",
        "data"
      ],
      "metadata": {
        "colab": {
          "base_uri": "https://localhost:8080/"
        },
        "id": "lu4NR0Rf0LKn",
        "outputId": "168c6e23-4d78-4740-bfab-64e1f346041d"
      },
      "execution_count": 19,
      "outputs": [
        {
          "output_type": "execute_result",
          "data": {
            "text/plain": [
              "{'bitcoin': {'usd': 113357,\n",
              "  'eur': 97347,\n",
              "  'gbp': 84061,\n",
              "  'jpy': 16718104,\n",
              "  'cad': 157162,\n",
              "  'aud': 175706,\n",
              "  'chf': 91548,\n",
              "  'hkd': 884164,\n",
              "  'sgd': 145676,\n",
              "  'sek': 1087842,\n",
              "  'nzd': 192302,\n",
              "  'krw': 157849392,\n",
              "  'nok': 1166213,\n",
              "  'inr': 9868565,\n",
              "  'brl': 623488,\n",
              "  'rub': 9156330,\n",
              "  'zar': 2005898,\n",
              "  'mxn': 2134699,\n",
              "  'myr': 478708,\n",
              "  'idr': 1846489703,\n",
              "  'try': 4635081,\n",
              "  'sar': 425381,\n",
              "  'aed': 416362,\n",
              "  'thb': 3696584}}"
            ]
          },
          "metadata": {},
          "execution_count": 19
        }
      ]
    },
    {
      "cell_type": "markdown",
      "source": [
        "We will extract the Bitcoin price in USD and convert it to ZAR using an estimated exchange rate.\n",
        "This is an example of turning raw data into useful **information**."
      ],
      "metadata": {
        "id": "6-vfkALo0P9Q"
      }
    },
    {
      "cell_type": "code",
      "source": [
        "# Function to convert USD to any currency using real exchange rates\n",
        "def convert_usd_to_currency(usd_amount, target_currency, exchange_rates):\n",
        "    if target_currency.upper() == 'USD':\n",
        "        return usd_amount\n",
        "    elif target_currency.upper() in exchange_rates:\n",
        "        return round(usd_amount * exchange_rates[target_currency.upper()], 2)\n",
        "    else:\n",
        "        print(f\"Currency {target_currency} not supported. Using USD.\")\n",
        "        return usd_amount"
      ],
      "metadata": {
        "id": "60EpkZEO0V0d"
      },
      "execution_count": 20,
      "outputs": []
    },
    {
      "cell_type": "code",
      "source": [
        "# Function to get real USD exchange rates\n",
        "def get_exchange_rates():\n",
        "    # Using a free API for exchange rates (alternative to CoinGecko's limited endpoint)\n",
        "    exchange_url = \"https://api.exchangerate-api.com/v4/latest/USD\"\n",
        "    try:\n",
        "        response = requests.get(exchange_url)\n",
        "        rates_data = response.json()\n",
        "        return rates_data['rates']\n",
        "    except:\n",
        "        # Fallback rates if API fails\n",
        "        print(\"Using fallback exchange rates\")\n",
        "        return {\n",
        "            'EUR': 0.93, 'GBP': 0.80, 'JPY': 157.50, 'CAD': 1.36,\n",
        "            'AUD': 1.50, 'CHF': 0.90, 'CNH': 7.25, 'HKD': 7.82,\n",
        "            'SGD': 1.35, 'SEK': 10.50, 'NZD': 1.62, 'KRW': 1350.00,\n",
        "            'NOK': 10.60, 'INR': 83.00, 'BRL': 5.40, 'RUB': 90.00,\n",
        "            'ZAR': 18.50, 'MXN': 17.20, 'MYR': 4.70, 'IDR': 15500.00,\n",
        "            'TRY': 32.00, 'SAR': 3.75, 'AED': 3.67, 'THB': 36.00\n",
        "        }"
      ],
      "metadata": {
        "id": "k5rSH5rMxL9s"
      },
      "execution_count": 21,
      "outputs": []
    },
    {
      "cell_type": "code",
      "source": [
        "# Get exchange rates\n",
        "exchange_rates = get_exchange_rates()\n",
        "\n",
        "# Extract USD price\n",
        "usd_price = data[\"bitcoin\"][\"usd\"]\n",
        "timestamp = datetime.now().isoformat()\n",
        "\n",
        "# Convert to multiple currencies\n",
        "target_currencies = ['USD', 'EUR', 'GBP', 'JPY', 'CAD', 'AUD', 'ZAR']\n",
        "converted_prices = {}\n",
        "\n",
        "for currency in target_currencies:\n",
        "    converted_prices[currency] = convert_usd_to_currency(usd_price, currency, exchange_rates)\n",
        "\n",
        "print(f\"Bitcoin price in USD: {usd_price}\")\n",
        "for currency, price in converted_prices.items():\n",
        "    print(f\"Price in {currency}: {price}\")\n"
      ],
      "metadata": {
        "colab": {
          "base_uri": "https://localhost:8080/"
        },
        "id": "ecC-Yy-E0a_t",
        "outputId": "149c3edf-684c-4006-93cb-92cfd9436d8d"
      },
      "execution_count": 22,
      "outputs": [
        {
          "output_type": "stream",
          "name": "stdout",
          "text": [
            "Bitcoin price in USD: 113357\n",
            "Price in USD: 113357\n",
            "Price in EUR: 97146.95\n",
            "Price in GBP: 83884.18\n",
            "Price in JPY: 16748496.75\n",
            "Price in CAD: 156432.66\n",
            "Price in AUD: 174569.78\n",
            "Price in ZAR: 1997350.34\n"
          ]
        }
      ]
    },
    {
      "cell_type": "code",
      "source": [
        "# Connect to SQLite database (or create it)\n",
        "conn = sqlite3.connect(\"bitcoin_prices.db\")\n",
        "cursor = conn.cursor()\n",
        "\n",
        "# Create table with multiple currency columns\n",
        "cursor.execute('''\n",
        "CREATE TABLE IF NOT EXISTS prices (\n",
        "    timestamp TEXT,\n",
        "    usd REAL,\n",
        "    eur REAL,\n",
        "    gbp REAL,\n",
        "    jpy REAL,\n",
        "    cad REAL,\n",
        "    aud REAL,\n",
        "    zar REAL\n",
        ")\n",
        "''')\n",
        "\n",
        "# Insert the new row with multiple currencies\n",
        "cursor.execute('''\n",
        "INSERT INTO prices (timestamp, usd, eur, gbp, jpy, cad, aud, zar)\n",
        "VALUES (?, ?, ?, ?, ?, ?, ?, ?)\n",
        "''', (\n",
        "    timestamp,\n",
        "    converted_prices['USD'],\n",
        "    converted_prices['EUR'],\n",
        "    converted_prices['GBP'],\n",
        "    converted_prices['JPY'],\n",
        "    converted_prices['CAD'],\n",
        "    converted_prices['AUD'],\n",
        "    converted_prices['ZAR']\n",
        "))\n",
        "\n",
        "conn.commit()\n",
        "conn.close()\n"
      ],
      "metadata": {
        "id": "wpimWgg00lgl"
      },
      "execution_count": 23,
      "outputs": []
    },
    {
      "cell_type": "code",
      "source": [
        "# Check if data was successfully written\n",
        "conn = sqlite3.connect(\"bitcoin_prices.db\")\n",
        "cursor = conn.cursor()\n",
        "\n",
        "# Show the last 5 rows\n",
        "rows = cursor.execute(\"SELECT * FROM prices ORDER BY timestamp DESC LIMIT 5\").fetchall()\n",
        "for row in rows:\n",
        "    print(row)\n",
        "\n",
        "conn.close()"
      ],
      "metadata": {
        "colab": {
          "base_uri": "https://localhost:8080/"
        },
        "id": "URSO8F6x0q1q",
        "outputId": "efc34ee1-4613-412f-b243-085beccda4d6"
      },
      "execution_count": 24,
      "outputs": [
        {
          "output_type": "stream",
          "name": "stdout",
          "text": [
            "('2025-08-19T19:29:44.669212', 113357.0, 97146.95, 83884.18, 16748496.75, 156432.66, 174569.78, 1997350.34)\n"
          ]
        }
      ]
    }
  ]
}